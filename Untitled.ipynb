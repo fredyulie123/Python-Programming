{
 "cells": [
  {
   "cell_type": "code",
   "execution_count": 2,
   "metadata": {},
   "outputs": [
    {
     "name": "stdout",
     "output_type": "stream",
     "text": [
      "Please enter principal:\n",
      ">>4000\n",
      "Please enter annual interest rate:\n",
      ">>5.2\n",
      "Please enter the term in years:\n",
      ">>70\n",
      "Please enter number of times the interest will compound per year:\n",
      ">>12\n",
      "4000 5.2 70 12\n"
     ]
    }
   ],
   "source": [
    "principal_num = input('Please enter principal:\\n>>')\n",
    "annual_rate = input('Please enter annual interest rate:\\n>>')\n",
    "num_year = input('Please enter the term in years:\\n>>')\n",
    "term_num = input('Please enter number of times the interest will compound per year:\\n>>')\n",
    "print(principal_num, annual_rate, num_year, term_num)"
   ]
  },
  {
   "cell_type": "code",
   "execution_count": 4,
   "metadata": {},
   "outputs": [],
   "source": [
    "pv_float = float(principal_num)\n",
    "r_float = float(annual_rate)\n",
    "y_float = float(num_year)\n",
    "n_float = float(term_num)\n",
    "future_value = float(pv_float*(1+r_float/n_float/100)**(y_float*n_float))"
   ]
  },
  {
   "cell_type": "code",
   "execution_count": 5,
   "metadata": {},
   "outputs": [
    {
     "ename": "SyntaxError",
     "evalue": "invalid syntax (<ipython-input-5-0d1f93a3a3b9>, line 1)",
     "output_type": "error",
     "traceback": [
      "\u001b[1;36m  File \u001b[1;32m\"<ipython-input-5-0d1f93a3a3b9>\"\u001b[1;36m, line \u001b[1;32m1\u001b[0m\n\u001b[1;33m    print(\"In\", y_float, \"years at the interest rate of\", r_float, \"% compounded\", n_float, \"times per year the initial amount of $\", '${0:,.2f}'.format(pv_float), \"will be worth $\", '${0:,.2f}'.format(future_value)\".\")\u001b[0m\n\u001b[1;37m                                                                                                                                                                                                                         ^\u001b[0m\n\u001b[1;31mSyntaxError\u001b[0m\u001b[1;31m:\u001b[0m invalid syntax\n"
     ]
    }
   ],
   "source": [
    "print(\"In\", y_float, \"years at the interest rate of\", r_float, \"% compounded\", n_float, \"times per year the initial amount of $\", '${0:,.2f}'.format(pv_float), \"will be worth $\", '${0:,.2f}'.format(future_value)\".\")"
   ]
  },
  {
   "cell_type": "code",
   "execution_count": null,
   "metadata": {},
   "outputs": [],
   "source": []
  },
  {
   "cell_type": "code",
   "execution_count": null,
   "metadata": {},
   "outputs": [],
   "source": []
  }
 ],
 "metadata": {
  "kernelspec": {
   "display_name": "Python 3",
   "language": "python",
   "name": "python3"
  },
  "language_info": {
   "codemirror_mode": {
    "name": "ipython",
    "version": 3
   },
   "file_extension": ".py",
   "mimetype": "text/x-python",
   "name": "python",
   "nbconvert_exporter": "python",
   "pygments_lexer": "ipython3",
   "version": "3.7.3"
  }
 },
 "nbformat": 4,
 "nbformat_minor": 2
}
