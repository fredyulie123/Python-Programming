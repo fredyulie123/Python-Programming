{
 "cells": [
  {
   "cell_type": "code",
   "execution_count": 1,
   "metadata": {},
   "outputs": [],
   "source": [
    "import re\n",
    "import requests\n",
    "from bs4 import BeautifulSoup\n",
    "import time\n",
    "import os\n",
    "import pandas as pd\n",
    "import numpy as np"
   ]
  },
  {
   "cell_type": "code",
   "execution_count": 2,
   "metadata": {},
   "outputs": [],
   "source": [
    "os.getcwd()\n",
    "path = 'Boucherie Union Square'"
   ]
  },
  {
   "cell_type": "code",
   "execution_count": 3,
   "metadata": {},
   "outputs": [
    {
     "name": "stdout",
     "output_type": "stream",
     "text": [
      "Successfully get the page https://www.yelp.com/biz/boucherie-union-square-new-york?osq=steak\n"
     ]
    },
    {
     "ename": "TypeError",
     "evalue": "'NoneType' object is not callable",
     "output_type": "error",
     "traceback": [
      "\u001b[1;31m---------------------------------------------------------------------------\u001b[0m",
      "\u001b[1;31mTypeError\u001b[0m                                 Traceback (most recent call last)",
      "\u001b[1;32m<ipython-input-3-6b2212e58ec6>\u001b[0m in \u001b[0;36m<module>\u001b[1;34m\u001b[0m\n\u001b[0;32m     39\u001b[0m             \u001b[0mplace\u001b[0m \u001b[1;33m=\u001b[0m \u001b[0mplaces\u001b[0m\u001b[1;33m.\u001b[0m\u001b[0mtext\u001b[0m\u001b[1;33m.\u001b[0m\u001b[0mstrip\u001b[0m\u001b[1;33m(\u001b[0m\u001b[1;33m)\u001b[0m\u001b[1;33m\u001b[0m\u001b[1;33m\u001b[0m\u001b[0m\n\u001b[0;32m     40\u001b[0m         \u001b[1;32mif\u001b[0m \u001b[0mrates\u001b[0m\u001b[1;33m:\u001b[0m\u001b[1;33m\u001b[0m\u001b[1;33m\u001b[0m\u001b[0m\n\u001b[1;32m---> 41\u001b[1;33m             \u001b[0mrate\u001b[0m \u001b[1;33m=\u001b[0m \u001b[0mrates\u001b[0m\u001b[1;33m.\u001b[0m\u001b[0mcontent\u001b[0m\u001b[1;33m(\u001b[0m\u001b[1;33m)\u001b[0m\u001b[1;33m\u001b[0m\u001b[1;33m\u001b[0m\u001b[0m\n\u001b[0m\u001b[0;32m     42\u001b[0m             \u001b[0mrate\u001b[0m \u001b[1;33m=\u001b[0m \u001b[0mstr\u001b[0m\u001b[1;33m(\u001b[0m\u001b[0mrate\u001b[0m\u001b[1;33m)\u001b[0m\u001b[1;33m\u001b[0m\u001b[1;33m\u001b[0m\u001b[0m\n\u001b[0;32m     43\u001b[0m         \u001b[1;32mif\u001b[0m \u001b[0mtimes\u001b[0m\u001b[1;33m:\u001b[0m\u001b[1;33m\u001b[0m\u001b[1;33m\u001b[0m\u001b[0m\n",
      "\u001b[1;31mTypeError\u001b[0m: 'NoneType' object is not callable"
     ]
    }
   ],
   "source": [
    "data  = [] \n",
    "\n",
    "my_headers = { 'User-Agent': 'Mozilla/5.0 (Windows NT 6.1) AppleWebKit/537.36 (KHTML, like Gecko) Chrome/41.0.2228.0 Safari/537.36'}\n",
    "AUTOTHROTTLE_ENABLED = True\n",
    "\n",
    "page = 37\n",
    "\n",
    "for k in range(0, page):\n",
    "    if k == 0 :\n",
    "        url = \"https://www.yelp.com/biz/boucherie-union-square-new-york?osq=steak\"\n",
    "    else :\n",
    "        url = \"https://www.yelp.com/biz/boucherie-union-square-new-york?osq=steak&start=\" +str(k*20)\n",
    "    src = False\n",
    "    for i in range(1,37):\n",
    "        try:\n",
    "            response = requests.get(url, headers = my_headers)\n",
    "            src = response.content\n",
    "            break\n",
    "        except:\n",
    "            print('failed attempt #', i)\n",
    "            time.sleep(2)\n",
    "    if not src:\n",
    "        print('Could not get page', url)\n",
    "    else:\n",
    "        print('Successfully get the page', url)\n",
    "    \n",
    "    soup = BeautifulSoup(src.decode('ascii', 'ignore'),'lxml')\n",
    "    \n",
    "    infos = soup.findAll('div', {'class':re.compile('lemon--div__373c0__1mboc sidebarActionsHoverTarget__373c0__2kfhE arrange__373c0__UHqhV gutter-12__373c0__3kguh grid__373c0__29zUk layout-stack-small__373c0__3cHex border-color--default__373c0__2oFDT')})\n",
    "    for info in infos:\n",
    "        users = info.find('a',{'class':re.compile('lemon--a__373c0__IEZFH link__373c0__29943 link-color--inherit__373c0__15ymx link-size--inherit__373c0__2JXk5')})\n",
    "        places = info.find('span',{'class':re.compile('lemon--span__373c0__3997G text__373c0__2pB8f text-color--normal__373c0__K_MKN text-align--left__373c0__2pnx_ text-weight--bold__373c0__3HYJa text-size--small__373c0__3SGMi')})\n",
    "        rates = info.find('div',{'class':re.compile('i-stars__373c0__Y2F3O')})\n",
    "        times = info.find('span',{'class':re.compile('lemon--span__373c0__3997G text__373c0__2pB8f text-color--mid__373c0__3G312 text-align--left__373c0__2pnx_')})\n",
    "        reviews = info.find('span',{'class':re.compile('lemon--span__373c0__3997G'),'lang':re.compile('en')})\n",
    "        if users:\n",
    "            user = users.text.strip()\n",
    "        if places:\n",
    "            place = places.text.strip()\n",
    "        if rates:\n",
    "            rate = rates['aria-label']\n",
    "            rate = str(rate)\n",
    "        if times:\n",
    "            time = times.text.strip()\n",
    "        if reviews:\n",
    "            review = reviews.text.strip()\n",
    "        data.append([user,place,rate,time,review])\n",
    "    \n",
    "    with open (path+'.txt', mode='w', encoding='utf-8') as f:\n",
    "        for text in data:\n",
    "            f.write(text[0] + '\\t' + text[1] +'\\t' + text[2] +'\\t' + text[3] + '\\t' + text[4] + '\\n')"
   ]
  },
  {
   "cell_type": "code",
   "execution_count": null,
   "metadata": {},
   "outputs": [],
   "source": []
  }
 ],
 "metadata": {
  "kernelspec": {
   "display_name": "Python 3",
   "language": "python",
   "name": "python3"
  },
  "language_info": {
   "codemirror_mode": {
    "name": "ipython",
    "version": 3
   },
   "file_extension": ".py",
   "mimetype": "text/x-python",
   "name": "python",
   "nbconvert_exporter": "python",
   "pygments_lexer": "ipython3",
   "version": "3.7.3"
  }
 },
 "nbformat": 4,
 "nbformat_minor": 2
}
